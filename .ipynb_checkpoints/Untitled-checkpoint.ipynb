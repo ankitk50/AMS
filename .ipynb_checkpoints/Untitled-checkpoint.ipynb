{
 "cells": [
  {
   "cell_type": "markdown",
   "metadata": {},
   "source": [
    "Programming Assignment 1 : Implementing the Discrete Event Simulator"
   ]
  },
  {
   "cell_type": "markdown",
   "metadata": {},
   "source": [
    "Answers to Analysis and General Questions\n"
   ]
  },
  {
   "cell_type": "markdown",
   "metadata": {},
   "source": [
    "Task 1.6.1: Confidence\n",
    "\n",
    "In the last section you have run your simulation and received a result. How could you establish\n",
    "statistical confidence in this case?"
   ]
  },
  {
   "cell_type": "markdown",
   "metadata": {},
   "source": [
    "ffff\n",
    "\n",
    "\n",
    "\n",
    "\n"
   ]
  },
  {
   "cell_type": "markdown",
   "metadata": {},
   "source": [
    "Task 1.6.2: Event Chain Structure\n",
    "\n",
    "Explain why it makes sense to use a heap as your data structure for the event chain"
   ]
  },
  {
   "cell_type": "markdown",
   "metadata": {},
   "source": [
    "In this simulation, we use the heapq - heap queue algorithm.\n",
    "\n",
    "The heap data structure is used because when we insert an event into the heap, all the events are sorted.Here events get sorted based on their timestamp.If the timestamps are equal, they get sorted as per priority, with 0 being the highest priority and 2 being the lowest.This insertion of events into the event chain is implemented using the heappush method.\n",
    "\n",
    "Now, we need to take out the events and process them. So we can simply use the heappop method and this returns the event with the largest timestamp(last event in the event chain) or the event with the highest priority if the timestamp of the last 2 events in the event chain.\n",
    "\n",
    "The heap datastructure hence allows us to easily sort the events in the eventchain based on their timestamp and priority and we can easily know which event to process next.\n",
    "\n",
    "\n",
    "\n",
    "\n"
   ]
  },
  {
   "cell_type": "markdown",
   "metadata": {},
   "source": [
    "Task 1.6.3: Update Event Chain\n",
    "\n",
    "Explain why it makes sense to update the event chain during simulation instead of inserting all\n",
    "events at the beginning of simulation. Consider both types of events, Customer Arrivals and\n",
    "Service Completions."
   ]
  },
  {
   "cell_type": "markdown",
   "metadata": {},
   "source": [
    "In this simulation, we have taken random times to complete an event.This is quite obvious because the server might take different times to process different packets.So one Service completion event might take a shorter time than the interaarival time of customer packets.\n",
    "\n",
    "If we implement the event chain at the beginning, then we will have a predefined series of execution of events.But it might happen a packet's service time is much less than the interarrival time of two customers.In this case a Service Completion event needs to be inserted in the event chain before the next customer arrival event comes into the event chain.This can reduce  the overall execution time of the simulation and hence improve the efficiency of the simulator.\n",
    "\n",
    "Similarly, we can also take the reverse case to be true.Suppose serving a particular packet is taking too long for the server and the time taken is bigger than the interarrival time of the customers.In that case,the service completion event keeps on running and the Customer arrival event (next service completion event cant run because one packet is currently being served in the server) is blocked.So, now we can change the system so that the Customer arrival event comes in while the other packet is being served by the server.This will help in reducing simulation time and hence improve efficiency."
   ]
  },
  {
   "cell_type": "markdown",
   "metadata": {},
   "source": [
    "Task 1.7.1: Queue Length Determination I"
   ]
  },
  {
   "cell_type": "code",
   "execution_count": 1,
   "metadata": {},
   "outputs": [],
   "source": [
    "import part1_simstudy"
   ]
  },
  {
   "cell_type": "code",
   "execution_count": 2,
   "metadata": {},
   "outputs": [
    {
     "data": {
      "text/plain": [
       "(2, 0.03902439024390244)"
      ]
     },
     "execution_count": 2,
     "metadata": {},
     "output_type": "execute_result"
    }
   ],
   "source": [
    "part1_simstudy.task_1_7_1()"
   ]
  },
  {
   "cell_type": "markdown",
   "metadata": {},
   "source": [
    "Queue size : 2 and blocking probability : 0.03902439024390244\n",
    "So, at queue size 2, less than 10 packets are lost in\n",
    "at least 80% of 1000 simulation runs\n",
    "\n",
    "Design Procedure :\n",
    "1.execute do_simulation as the same number of times as specified in sim_param.NO_OF_RUNS\n",
    "2.Calculated the drop probability based on the number of dropped packets and calculate queue length if drop probability<=0.80\n",
    "3.Calculate the blocking probability \n",
    "4.Seed plays a role in determining queue size."
   ]
  },
  {
   "cell_type": "markdown",
   "metadata": {},
   "source": [
    "Task 1.7.2: Queue Length Determination II"
   ]
  },
  {
   "cell_type": "code",
   "execution_count": 4,
   "metadata": {},
   "outputs": [
    {
     "data": {
      "text/plain": [
       "(69, 0.004409603135717786)"
      ]
     },
     "execution_count": 4,
     "metadata": {},
     "output_type": "execute_result"
    }
   ],
   "source": [
    "part1_simstudy.task_1_7_2()"
   ]
  },
  {
   "cell_type": "markdown",
   "metadata": {},
   "source": [
    "Queue size : 69 and blocking probability : 0.004409603135717786\n",
    "\n",
    "Here, we can see that queue length has increased and the blocking probability has decreased."
   ]
  },
  {
   "cell_type": "code",
   "execution_count": null,
   "metadata": {},
   "outputs": [],
   "source": []
  },
  {
   "cell_type": "code",
   "execution_count": null,
   "metadata": {},
   "outputs": [],
   "source": []
  }
 ],
 "metadata": {
  "kernelspec": {
   "display_name": "Python 3",
   "language": "python",
   "name": "python3"
  },
  "language_info": {
   "codemirror_mode": {
    "name": "ipython",
    "version": 3
   },
   "file_extension": ".py",
   "mimetype": "text/x-python",
   "name": "python",
   "nbconvert_exporter": "python",
   "pygments_lexer": "ipython3",
   "version": "3.6.9"
  }
 },
 "nbformat": 4,
 "nbformat_minor": 4
}
