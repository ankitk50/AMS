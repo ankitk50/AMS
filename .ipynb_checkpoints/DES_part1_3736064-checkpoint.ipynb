{
 "cells": [
  {
   "cell_type": "markdown",
   "metadata": {},
   "source": [
    "## Programming Assignment 1: Implementing the Discrete Event Simulator"
   ]
  },
  {
   "cell_type": "markdown",
   "metadata": {},
   "source": [
    "### Answers to 'Analysis and General Questions'"
   ]
  },
  {
   "cell_type": "markdown",
   "metadata": {},
   "source": [
    "#### 1.6.1: Confidence"
   ]
  },
  {
   "cell_type": "markdown",
   "metadata": {},
   "source": [
    "Simulation can be run over and over again and some statistical paramters such as _mean number of dropped packets_, _variance of dropped packets_ can be calculated. \n",
    "\n",
    "For example if the _no. of packets dropped_ in simulation is  is close to the mean value of dropped packets obtained over a 1000 simulations, we know the no. of dropped packets are correct."
   ]
  },
  {
   "cell_type": "markdown",
   "metadata": {},
   "source": [
    "#### 1.6.2 Event Chain Structure"
   ]
  },
  {
   "cell_type": "markdown",
   "metadata": {},
   "source": [
    "Heap is better for implementation of a **priority queue** because of the fact that the root of the heap always has either the minimum value(_**min heap**--our case_) or the maximum value(_**max heap**_) in the heap.\n",
    "\n",
    "Apart from this, since heap is a form of binary tree, sorting time complexity of a heap in $O(n\\log{}n)$. The python implementation of heapq.heapify() function has time complexity of  $O(\\log{}n)$.\n",
    "\n",
    "Hence other data structures like stack, python list can also be used, but they might not be the most efficient and convinient for priority queues."
   ]
  },
  {
   "cell_type": "code",
   "execution_count": null,
   "metadata": {},
   "outputs": [],
   "source": []
  }
 ],
 "metadata": {
  "kernelspec": {
   "display_name": "Python 3",
   "language": "python",
   "name": "python3"
  },
  "language_info": {
   "codemirror_mode": {
    "name": "ipython",
    "version": 3
   },
   "file_extension": ".py",
   "mimetype": "text/x-python",
   "name": "python",
   "nbconvert_exporter": "python",
   "pygments_lexer": "ipython3",
   "version": "3.6.9"
  }
 },
 "nbformat": 4,
 "nbformat_minor": 4
}
