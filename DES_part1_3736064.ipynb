{
 "cells": [
  {
   "cell_type": "markdown",
   "metadata": {},
   "source": [
    "## Programming Assignment 1: Implementing the Discrete Event Simulator\n"
   ]
  },
  {
   "cell_type": "markdown",
   "metadata": {},
   "source": [
    "* Maticulation Number: 3736064\n",
    "* Github repo: https://github.com/ankitk50/AMS/tree/master\n"
   ]
  },
  {
   "cell_type": "markdown",
   "metadata": {},
   "source": [
    "### Answers to 'Analysis and General Questions'"
   ]
  },
  {
   "cell_type": "markdown",
   "metadata": {},
   "source": [
    "#### 1.6.1: Confidence"
   ]
  },
  {
   "cell_type": "markdown",
   "metadata": {},
   "source": [
    "To be sure/confident about our results, the simulation can be run over and over again and some statistical paramters such as _mean number of dropped packets_, _variance of dropped packets_ can be calculated. \n",
    "\n",
    "For example if the _no. of packets dropped_ in simulation is close to the mean value of dropped packets obtained over a 1000 simulations, we know the no. of dropped packets are correct and hence obtain confidence. This phenomenon is also stated by law of large number in probibility theory.\n",
    "\n",
    "**Reference:** In probability theory, the law of large numbers (LLN) is a theorem that describes the result of performing the same experiment a large number of times. According to the law, the average of the results obtained from a large number of trials should be close to the expected value and will tend to become closer to the expected value as more trials are performed.(source: Wikepedia)"
   ]
  },
  {
   "cell_type": "markdown",
   "metadata": {},
   "source": [
    "#### 1.6.2 Event Chain Structure"
   ]
  },
  {
   "cell_type": "markdown",
   "metadata": {},
   "source": [
    "Heap is better for implementation of a **priority queue** because of the fact that the root of the heap always has either the minimum value(_**min heap**--our case_) or the maximum value(_**max heap**_) in the heap. This makes things like popping and pushing items in the queue quite easy and error free.\n",
    "\n",
    "Apart from this, since heap is a form of binary tree, sorting time complexity of a heap in $O(n\\log{}n)$. The python implementation of heapq.heapify() function has time complexity of  $O(\\log{}n)$.\n",
    "\n",
    "Hence, other data structures like stack, python list can also be used, but they might not be the most efficient and convinient solutions for priority queues."
   ]
  },
  {
   "cell_type": "markdown",
   "metadata": {},
   "source": [
    "#### 1.6.3 Update Event Chain"
   ]
  },
  {
   "cell_type": "markdown",
   "metadata": {},
   "source": [
    "If we do event insertion at the beginning of simulation, the simulation will not be close to the real system in which packets arrive in a random fashion. Reasons are:\n",
    "   * Customer arrival events should load Service completion event only when the the packet has been loaded to server. This would not be possible when all events are loaded at once. Because we would not know which CA event should trigger which SC event and hence we cannot estimate completion time for SC event.\n",
    "   * Similarly, the service completion events should trigger another service completion event once the packet from queue has been added to server. The time reference for next event is done based this event which would not be possible if we load every thing at once.\n",
    "   * The serving time in real scenarios is usaually random, depending upon the packet size, CPU utilisation etc. We cannot simulate this scenario by loading all events at once.\n",
    "  \n",
    "    "
   ]
  },
  {
   "cell_type": "markdown",
   "metadata": {},
   "source": [
    "### Answers to Simulation Study"
   ]
  },
  {
   "cell_type": "markdown",
   "metadata": {},
   "source": [
    "#### 1.7.1: Queue Length Determination I"
   ]
  },
  {
   "cell_type": "markdown",
   "metadata": {},
   "source": [
    "Here are the step that I use:\n",
    "1. I just search the queue vlaue by starting the queue length at 1.\n",
    "2. Then incrementing the queue length by +1 after the 1000 simulations (total runs) when the no. of dropped packets are more than 10 for 80% of the total runs.\n",
    "3. When we arrive at a queue length at which we meet the 80% criteria, we break the loop."
   ]
  },
  {
   "cell_type": "code",
   "execution_count": 20,
   "metadata": {},
   "outputs": [],
   "source": [
    "import part1_simstudy as ps\n",
    "import matplotlib.pyplot as plt\n",
    "import numpy as np"
   ]
  },
  {
   "cell_type": "markdown",
   "metadata": {},
   "source": [
    "Cofiguration: \n",
    "1. Simulation time = 100s\n",
    "2. MAX_DROPPED = 10\n",
    "3. NO_OF_RUNS = 1000"
   ]
  },
  {
   "cell_type": "code",
   "execution_count": 40,
   "metadata": {},
   "outputs": [
    {
     "name": "stdout",
     "output_type": "stream",
     "text": [
      "Task 1 Queue Length: 3\n",
      "Task 1 Blocking Prob: 0.024390243902439025\n"
     ]
    }
   ],
   "source": [
    "print('Task 1 Queue Length:',ps.task_1_7_1()[0])\n",
    "print('Task 1 Blocking Prob:',ps.task_1_7_1()[1])"
   ]
  },
  {
   "cell_type": "markdown",
   "metadata": {},
   "source": [
    "#### 1.7.2: Queue Length Determination II"
   ]
  },
  {
   "cell_type": "markdown",
   "metadata": {},
   "source": [
    "Cofiguration 1: \n",
    "1. Simulation time = 1000s\n",
    "2. MAX_DROPPED     = 100\n",
    "3. NO_OF_RUNS      =100"
   ]
  },
  {
   "cell_type": "code",
   "execution_count": 13,
   "metadata": {},
   "outputs": [
    {
     "name": "stdout",
     "output_type": "stream",
     "text": [
      " Task 2 Queue Length: 4\n",
      " Task 2 Blocking Prob.: 0.04507594316511514\n"
     ]
    }
   ],
   "source": [
    "print(' Task 2 Queue Length:',ps.task_1_7_2()[0])\n",
    "print(' Task 2 Blocking Prob.:',ps.task_1_7_2()[1])"
   ]
  },
  {
   "cell_type": "markdown",
   "metadata": {},
   "source": [
    "For task 2, the queue length is 4 for mentioned configuration. And the blocking probabilty is 0.045.\n",
    "\n",
    "Now, I will just increase the simulation time in task1 to see if something is chnaged."
   ]
  },
  {
   "cell_type": "markdown",
   "metadata": {},
   "source": [
    "Cofiguration 1.2 (**just increasing the simulation time in task 1**): \n",
    "1. Simulation time = 1000s (increased from 100s to 1000s )\n",
    "2. MAX_DROPPED     = 10\n",
    "3. NO_OF_RUNS      =1000"
   ]
  },
  {
   "cell_type": "markdown",
   "metadata": {},
   "source": [
    "As shown below when we increase the simulation time, by keeping the MAX_DROPPED as same, we get higher queue length. The queue length is increased from 3⟶ 43 when we change run time from 100s ⟶ 1000s."
   ]
  },
  {
   "cell_type": "code",
   "execution_count": 4,
   "metadata": {},
   "outputs": [
    {
     "name": "stdout",
     "output_type": "stream",
     "text": [
      "Queue Length: 43\n"
     ]
    }
   ],
   "source": [
    "print('Queue Length:',ps.task_1_7_1(sim_t=1000000)[0])"
   ]
  },
  {
   "cell_type": "markdown",
   "metadata": {},
   "source": [
    "#### 1.7.3: Comparison of results"
   ]
  },
  {
   "cell_type": "markdown",
   "metadata": {},
   "source": [
    "#### Plot- Block probabity vs Queue length (Task 1 and Task 2)"
   ]
  },
  {
   "cell_type": "code",
   "execution_count": 17,
   "metadata": {},
   "outputs": [
    {
     "data": {
      "image/png": "[encoded data removed]",
      "text/plain": [
       "<Figure size 432x288 with 1 Axes>"
      ]
     },
     "metadata": {
      "needs_background": "light"
     },
     "output_type": "display_data"
    }
   ],
   "source": [
    "#task1 data\n",
    "data=[(q_len+1, block_prob) for q_len, block_prob in enumerate(ps.task_1_7_1()[2])]\n",
    "\n",
    "x_val1=[x[0] for x in data]\n",
    "y_val1=[y[1] for y in data]\n",
    "\n",
    "#task2 data\n",
    "data2= [(q_len+1, block_prob) for q_len, block_prob in enumerate(ps.task_1_7_2()[2])]\n",
    "x_val2=[x[0] for x in data2]\n",
    "y_val2=[y[1] for y in data2]\n",
    "\n",
    "plt.plot(x_val1,y_val1)\n",
    "plt.plot(x_val2,y_val2)\n",
    "plt.title(\"Block probabity vs Queue length (Task 1 and Task 2)\")\n",
    "plt.xlabel(\"blocking prob\")\n",
    "plt.ylabel(\"queue length\")\n",
    "plt.show()"
   ]
  },
  {
   "cell_type": "code",
   "execution_count": 38,
   "metadata": {},
   "outputs": [
    {
     "name": "stdout",
     "output_type": "stream",
     "text": [
      " Task 2 Blocking Prob.: [0.14061734443900048, 0.08329250367466928, 0.059284664380205784, 0.04507594316511514]\n"
     ]
    },
    {
     "data": {
      "image/png": "[encoded data removed]",
      "text/plain": [
       "<Figure size 432x288 with 1 Axes>"
      ]
     },
     "metadata": {
      "needs_background": "light"
     },
     "output_type": "display_data"
    }
   ],
   "source": [
    "print(' Task 2 Blocking Prob.:',ps.task_1_7_2()[2])\n",
    "task2_np = np.asarray(ps.task_1_7_2()[2], dtype=np.float32)\n",
    "task1_np = np.asarray(ps.task_1_7_1()[2], dtype=np.float32)\n",
    "#task2_np= np.full((1,1000),ps.task_1_7_2()[1])\n",
    "#task1_np= np.full((1,1000),ps.task_1_7_1()[1])\n",
    "count, bins_count = np.histogram(task1_np, bins=10)\n",
    "count2, bins_count2 = np.histogram(task2_np, bins=10)  \n",
    "# finding the PDF of the histogram using count values\n",
    "pdf = count / sum(count)\n",
    "pdf2 = count2 / sum(count2)  \n",
    "# using numpy np.cumsum to calculate the CDF\n",
    "# We can also find using the PDF values by looping and adding\n",
    "cdf = np.cumsum(pdf)\n",
    "cdf2 = np.cumsum(pdf2)\n",
    "  \n",
    "# plotting PDF and CDF\n",
    "plt.plot(bins_count[1:], cdf2, color=\"red\", label=\"CDF_task2\",) #marker='o'\n",
    "plt.plot(bins_count[1:], cdf, label=\"CDF_task1\")\n",
    "plt.legend()\n",
    "plt.title(\"Commulative distribution (Task 1 and Task 2)\")\n",
    "plt.show()"
   ]
  },
  {
   "cell_type": "markdown",
   "metadata": {},
   "source": [
    "As shown above the two systems behave differently in terms of blocking probabilities and queue length. The systems have diffrent blocking probabilities for a given queue length."
   ]
  },
  {
   "cell_type": "code",
   "execution_count": null,
   "metadata": {},
   "outputs": [],
   "source": []
  }
 ],
 "metadata": {
  "kernelspec": {
   "display_name": "Python 3",
   "language": "python",
   "name": "python3"
  },
  "language_info": {
   "codemirror_mode": {
    "name": "ipython",
    "version": 3
   },
   "file_extension": ".py",
   "mimetype": "text/x-python",
   "name": "python",
   "nbconvert_exporter": "python",
   "pygments_lexer": "ipython3",
   "version": "3.6.9"
  }
 },
 "nbformat": 4,
 "nbformat_minor": 4
}
